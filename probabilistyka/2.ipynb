{
 "cells": [
  {
   "cell_type": "code",
   "execution_count": 4,
   "metadata": {},
   "outputs": [],
   "source": [
    "import numpy.random as rnd"
   ]
  },
  {
   "cell_type": "code",
   "execution_count": 7,
   "metadata": {},
   "outputs": [
    {
     "data": {
      "text/plain": [
       "0.8467771539572494"
      ]
     },
     "execution_count": 7,
     "metadata": {},
     "output_type": "execute_result"
    }
   ],
   "source": [
    "rnd.random()"
   ]
  },
  {
   "cell_type": "code",
   "execution_count": 23,
   "metadata": {},
   "outputs": [],
   "source": [
    "N = 10**4\n",
    "\n",
    "p, czulosc, swoistosc = 0.08, 0.85, 0.65\n",
    "chory_plus = 0\n",
    "chory_minus = 0\n",
    "zdrowy_plus = 0\n",
    "zdrowy_minus = 0"
   ]
  },
  {
   "cell_type": "code",
   "execution_count": 24,
   "metadata": {},
   "outputs": [],
   "source": [
    "for ii in range(N):\n",
    "    # Gdy wylosowana osoba jest chora\n",
    "    if rnd.random()<p:\n",
    "        if rnd.random()<czulosc: \n",
    "            chory_plus +=1\n",
    "        else: \n",
    "            chory_minus +=1\n",
    "    # Gdy wylosowana osoba jest zdrowa\n",
    "    else:\n",
    "        if rnd.random()<swoistosc: \n",
    "            zdrowy_minus +=1\n",
    "        else: \n",
    "            zdrowy_plus +=1\n"
   ]
  },
  {
   "cell_type": "code",
   "execution_count": 25,
   "metadata": {},
   "outputs": [
    {
     "name": "stdout",
     "output_type": "stream",
     "text": [
      "P-stwo dobrej diagnozy = 0.666 vs symulacja = 0.673\n",
      "\n",
      "P-stwo, że osoba z dodatnim wynikiem jest chora 0.174 vs symulacja 0.175\n"
     ]
    }
   ],
   "source": [
    "dobra_diagnoza = p*czulosc + (1-p)*swoistosc\n",
    "dobra_diagnoza_sym = (chory_plus + zdrowy_minus)/(N)\n",
    "plus_chory = (p*czulosc)/(p*czulosc + (1-p)*(1-swoistosc))\n",
    "plus_chory_symulacja = (chory_plus)/(chory_plus+zdrowy_plus)\n",
    "\n",
    "\n",
    "print(f'P-stwo dobrej diagnozy = {dobra_diagnoza:.3f} vs symulacja = {dobra_diagnoza_sym:.3f}\\n')\n",
    "print(f'P-stwo, że osoba z dodatnim wynikiem jest chora {plus_chory:.3f} vs symulacja {plus_chory_symulacja:.3f}')"
   ]
  },
  {
   "cell_type": "code",
   "execution_count": null,
   "metadata": {},
   "outputs": [],
   "source": []
  }
 ],
 "metadata": {
  "kernelspec": {
   "display_name": ".venv",
   "language": "python",
   "name": "python3"
  },
  "language_info": {
   "codemirror_mode": {
    "name": "ipython",
    "version": 3
   },
   "file_extension": ".py",
   "mimetype": "text/x-python",
   "name": "python",
   "nbconvert_exporter": "python",
   "pygments_lexer": "ipython3",
   "version": "3.11.1"
  },
  "orig_nbformat": 4
 },
 "nbformat": 4,
 "nbformat_minor": 2
}
